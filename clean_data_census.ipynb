{
 "cells": [
  {
   "cell_type": "code",
   "execution_count": 4,
   "metadata": {},
   "outputs": [],
   "source": [
    "import pandas as pd\n",
    "import os\n",
    "import requests\n",
    "import census\n",
    "import us\n",
    "from pprint import pprint"
   ]
  },
  {
   "cell_type": "code",
   "execution_count": 5,
   "metadata": {},
   "outputs": [],
   "source": [
    "census_key = os.environ.get(\"census_key\")\n",
    "gkey = os.environ.get(\"google_maps_key\")"
   ]
  },
  {
   "cell_type": "code",
   "execution_count": 6,
   "metadata": {},
   "outputs": [],
   "source": [
    "#Total population per state - 2019\n",
    "pop_base_url = f\"https://api.census.gov/data/2019/pep/population?get=POP&for=STATE:*&key={census_key}\"\n",
    "\n",
    "pop_response = requests.get(pop_base_url)\n",
    "pop_json_file = pop_response.json()"
   ]
  },
  {
   "cell_type": "code",
   "execution_count": 7,
   "metadata": {},
   "outputs": [
    {
     "name": "stdout",
     "output_type": "stream",
     "text": [
      "https://api.census.gov/data/2019/pep/charagegroups?get=AGEGROUP,HISP,RACE,SEX&for=STATE:*&key=03a1cd215ae4a36221fedbe526df3a94e666d205\n"
     ]
    }
   ],
   "source": [
    "#Demographic Characteristics Estimates by Age Groups - 2019\n",
    "demo_base_url = f\"https://api.census.gov/data/2019/pep/charagegroups?get=AGEGROUP,HISP,RACE,SEX&for=STATE:*&key={census_key}\"\n",
    "print(demo_base_url)"
   ]
  },
  {
   "cell_type": "code",
   "execution_count": null,
   "metadata": {},
   "outputs": [],
   "source": [
    "# c = Census(\"MY_API_KEY\")\n",
    "# c.acs5.get(('NAME', 'B25034_010E'),\n",
    "#           {'for': 'state:{}'.format(states.MD.fips)})"
   ]
  },
  {
   "cell_type": "code",
   "execution_count": null,
   "metadata": {},
   "outputs": [],
   "source": []
  }
 ],
 "metadata": {
  "kernelspec": {
   "display_name": "Python 3",
   "language": "python",
   "name": "python3"
  },
  "language_info": {
   "codemirror_mode": {
    "name": "ipython",
    "version": 3
   },
   "file_extension": ".py",
   "mimetype": "text/x-python",
   "name": "python",
   "nbconvert_exporter": "python",
   "pygments_lexer": "ipython3",
   "version": "3.7.6"
  }
 },
 "nbformat": 4,
 "nbformat_minor": 4
}
